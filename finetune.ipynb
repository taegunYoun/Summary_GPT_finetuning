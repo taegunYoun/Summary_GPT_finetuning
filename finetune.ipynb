{
 "cells": [
  {
   "cell_type": "code",
   "execution_count": null,
   "id": "547005b6",
   "metadata": {},
   "outputs": [
    {
     "name": "stdout",
     "output_type": "stream",
     "text": [
      "Requirement already satisfied: openai in c:\\users\\82104\\crawling_data\\.conda\\lib\\site-packages (1.84.0)\n",
      "Requirement already satisfied: anyio<5,>=3.5.0 in c:\\users\\82104\\crawling_data\\.conda\\lib\\site-packages (from openai) (4.9.0)\n",
      "Requirement already satisfied: distro<2,>=1.7.0 in c:\\users\\82104\\crawling_data\\.conda\\lib\\site-packages (from openai) (1.9.0)\n",
      "Requirement already satisfied: httpx<1,>=0.23.0 in c:\\users\\82104\\crawling_data\\.conda\\lib\\site-packages (from openai) (0.28.1)\n",
      "Requirement already satisfied: jiter<1,>=0.4.0 in c:\\users\\82104\\crawling_data\\.conda\\lib\\site-packages (from openai) (0.10.0)\n",
      "Requirement already satisfied: pydantic<3,>=1.9.0 in c:\\users\\82104\\crawling_data\\.conda\\lib\\site-packages (from openai) (2.11.5)\n",
      "Requirement already satisfied: sniffio in c:\\users\\82104\\crawling_data\\.conda\\lib\\site-packages (from openai) (1.3.1)\n",
      "Requirement already satisfied: tqdm>4 in c:\\users\\82104\\crawling_data\\.conda\\lib\\site-packages (from openai) (4.67.1)\n",
      "Requirement already satisfied: typing-extensions<5,>=4.11 in c:\\users\\82104\\crawling_data\\.conda\\lib\\site-packages (from openai) (4.13.2)\n",
      "Requirement already satisfied: idna>=2.8 in c:\\users\\82104\\crawling_data\\.conda\\lib\\site-packages (from anyio<5,>=3.5.0->openai) (3.10)\n",
      "Requirement already satisfied: certifi in c:\\users\\82104\\crawling_data\\.conda\\lib\\site-packages (from httpx<1,>=0.23.0->openai) (2025.4.26)\n",
      "Requirement already satisfied: httpcore==1.* in c:\\users\\82104\\crawling_data\\.conda\\lib\\site-packages (from httpx<1,>=0.23.0->openai) (1.0.9)\n",
      "Requirement already satisfied: h11>=0.16 in c:\\users\\82104\\crawling_data\\.conda\\lib\\site-packages (from httpcore==1.*->httpx<1,>=0.23.0->openai) (0.16.0)\n",
      "Requirement already satisfied: annotated-types>=0.6.0 in c:\\users\\82104\\crawling_data\\.conda\\lib\\site-packages (from pydantic<3,>=1.9.0->openai) (0.7.0)\n",
      "Requirement already satisfied: pydantic-core==2.33.2 in c:\\users\\82104\\crawling_data\\.conda\\lib\\site-packages (from pydantic<3,>=1.9.0->openai) (2.33.2)\n",
      "Requirement already satisfied: typing-inspection>=0.4.0 in c:\\users\\82104\\crawling_data\\.conda\\lib\\site-packages (from pydantic<3,>=1.9.0->openai) (0.4.1)\n",
      "Requirement already satisfied: colorama in c:\\users\\82104\\crawling_data\\.conda\\lib\\site-packages (from tqdm>4->openai) (0.4.6)\n",
      "Note: you may need to restart the kernel to use updated packages.\n"
     ]
    }
   ],
   "source": [
    "pip install openai"
   ]
  },
  {
   "cell_type": "code",
   "execution_count": null,
   "id": "08401085",
   "metadata": {},
   "outputs": [],
   "source": [
    "#  0. 라이브러리 임포트 및 API 키 입력\n",
    "from openai import OpenAI\n",
    "import os\n",
    "\n",
    "#  사용자에게 키 입력받기\n",
    "api_key = input(\" OpenAI Key를 입력하세요: \").strip()\n",
    "\n",
    "#  클라이언트 초기화\n",
    "client = OpenAI(api_key=api_key)\n"
   ]
  },
  {
   "cell_type": "code",
   "execution_count": null,
   "id": "ac14f773",
   "metadata": {},
   "outputs": [
    {
     "name": "stdout",
     "output_type": "stream",
     "text": [
      "✅ Train File ID: file-35AHAiPBwZihd5bHHY2uAX\n"
     ]
    }
   ],
   "source": [
    "# 1. train.jsonl 파일 업로드\n",
    "train_file = client.files.create(\n",
    "    file=open(\"train.jsonl\", \"rb\"),\n",
    "    purpose=\"fine-tune\"\n",
    ")\n",
    "print(\"OK! Train File ID:\", train_file.id)\n"
   ]
  },
  {
   "cell_type": "code",
   "execution_count": null,
   "id": "f32fa5c4",
   "metadata": {},
   "outputs": [
    {
     "name": "stdout",
     "output_type": "stream",
     "text": [
      "✅ Validation File ID: file-Kpqwv7AuA2FUCEerGKPr98\n"
     ]
    }
   ],
   "source": [
    "# 2. test.jsonl 파일 업로드 (선택)\n",
    "val_file = client.files.create(\n",
    "    file=open(\"test.jsonl\", \"rb\"),\n",
    "    purpose=\"fine-tune\"\n",
    ")\n",
    "print(\"OK! Validation File ID:\", val_file.id)\n"
   ]
  },
  {
   "cell_type": "code",
   "execution_count": null,
   "id": "154188a8",
   "metadata": {},
   "outputs": [
    {
     "name": "stdout",
     "output_type": "stream",
     "text": [
      "🚀 파인튜닝 Job ID: ftjob-lm7dt11xOttUGjakPEQnELxu\n"
     ]
    }
   ],
   "source": [
    "# 3. 파인튜닝 시작\n",
    "fine_tune_job = client.fine_tuning.jobs.create(\n",
    "    training_file=train_file.id,\n",
    "    validation_file=val_file.id,\n",
    "    model=\"gpt-3.5-turbo\",\n",
    "    suffix=\"family-diary\"\n",
    ")\n",
    "\n",
    "print(\"OK! 파인튜닝 Job ID:\", fine_tune_job.id)\n"
   ]
  },
  {
   "cell_type": "code",
   "execution_count": null,
   "id": "1fe799d3",
   "metadata": {},
   "outputs": [
    {
     "name": "stdout",
     "output_type": "stream",
     "text": [
      "📊 현재 상태: validating_files\n"
     ]
    }
   ],
   "source": [
    "# 4. 파인튜닝 상태 확인\n",
    "job_id = fine_tune_job.id\n",
    "status = client.fine_tuning.jobs.retrieve(job_id)\n",
    "print(\"OK! 현재 상태:\", status.status)\n"
   ]
  },
  {
   "cell_type": "code",
   "execution_count": 32,
   "id": "175a1cf3",
   "metadata": {},
   "outputs": [
    {
     "name": "stdout",
     "output_type": "stream",
     "text": [
      "🔹 모델 이름: None\n",
      "🔹 모델 이름: None\n",
      "🔹 모델 이름: ft:gpt-3.5-turbo-0125:personal:family-diary:BedVJIlc\n",
      "🔹 모델 이름: None\n",
      "🔹 모델 이름: None\n"
     ]
    }
   ],
   "source": [
    "# 가장 최근 파인튜닝 job 정보 확인\n",
    "jobs = client.fine_tuning.jobs.list(limit=5)\n",
    "\n",
    "for job in jobs.data:\n",
    "    print(\"🔹 모델 이름:\", job.fine_tuned_model)\n"
   ]
  },
  {
   "cell_type": "code",
   "execution_count": null,
   "id": "9d57732c",
   "metadata": {},
   "outputs": [
    {
     "name": "stdout",
     "output_type": "stream",
     "text": [
      "📝 요약 결과: 오늘은 엄마가 할머니 병원을 오가며 바쁜 하루를 보냈고, 가족들은 하나둘 일어나며 서로 소통했다. 채원과 태건은 서울 울대에 가는 길, 바람이 세다며 서로 조심 인사를 나눴다. 오늘도 가족 간 따뜻한 소통이 오가는 하루였다.\n"
     ]
    }
   ],
   "source": [
    "# 5. 파인튜닝 완료 후, 모델로 테스트\n",
    "completion = client.chat.completions.create(\n",
    "    model=\"ft:gpt-3.5-turbo-0125:personal:family-diary:BedVJIlc\",  # 실제 완성된 모델명으로...\n",
    "    messages=[\n",
    "        {\"role\":\"user\",\"content\":\"엄마: 애들은 다들 일어났니?\\n엄마: 엄마는 할머니 병원 왔다.\\n엄마: 태건이는 어디야? \\n태건: 가는중\\n엄마: 이모티콘\\n엄마: 아빠는 왜 답없대?\\n태건: 아빠가 태워주는겨\\n엄마: 웬일 태워다준대?ㅎ\\n채원: 오홍\\n채원: 아빠 출근 안한겨~?\\n엄마: 아빠 10시에 고대로\\n엄마: 바로 출근\\n엄마: 째옹 출근준비중?\\n채원: 넹~\\n채원: 서울울대 가용\\n엄마: 오늘도 가는겨? 혼자?\\n채원: 애들이랑!\\n엄마: ㅇㅋ\\n엄마: 바람이 너무 분다. 다들 조심\\n채원: 안날라 가게 조심할게요~\\n채원: 이모티콘\"}\n",
    "    ]\n",
    ")\n",
    "\n",
    "print(\"OK! 요약 결과:\", completion.choices[0].message.content)\n"
   ]
  }
 ],
 "metadata": {
  "kernelspec": {
   "display_name": ".conda",
   "language": "python",
   "name": "python3"
  },
  "language_info": {
   "codemirror_mode": {
    "name": "ipython",
    "version": 3
   },
   "file_extension": ".py",
   "mimetype": "text/x-python",
   "name": "python",
   "nbconvert_exporter": "python",
   "pygments_lexer": "ipython3",
   "version": "3.12.9"
  }
 },
 "nbformat": 4,
 "nbformat_minor": 5
}
